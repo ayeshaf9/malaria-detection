{
 "cells": [
  {
   "cell_type": "markdown",
   "metadata": {},
   "source": [
    "# Import required libraries"
   ]
  },
  {
   "cell_type": "code",
   "execution_count": 39,
   "metadata": {},
   "outputs": [],
   "source": [
    "import pandas as pd\n",
    "from sklearn.model_selection import train_test_split\n",
    "from sklearn.ensemble import RandomForestClassifier\n",
    "from sklearn.metrics import confusion_matrix"
   ]
  },
  {
   "cell_type": "markdown",
   "metadata": {},
   "source": [
    "# READ the `dataset.csv` file into a dataframe and drop NaN column "
   ]
  },
  {
   "cell_type": "code",
   "execution_count": 8,
   "metadata": {},
   "outputs": [
    {
     "output_type": "execute_result",
     "data": {
      "text/plain": "   Uninfected  14493.5    0  0.1  0.2  0.3\n0  Uninfected  13663.5  0.0  0.0  0.0  0.0\n1  Uninfected  14300.0  0.0  0.0  0.0  0.0\n2  Uninfected   7735.5  0.0  0.0  0.0  0.0\n3  Uninfected  11123.0  0.0  0.0  0.0  0.0\n4  Uninfected   9863.0  0.0  0.0  0.0  0.0",
      "text/html": "<div>\n<style scoped>\n    .dataframe tbody tr th:only-of-type {\n        vertical-align: middle;\n    }\n\n    .dataframe tbody tr th {\n        vertical-align: top;\n    }\n\n    .dataframe thead th {\n        text-align: right;\n    }\n</style>\n<table border=\"1\" class=\"dataframe\">\n  <thead>\n    <tr style=\"text-align: right;\">\n      <th></th>\n      <th>Uninfected</th>\n      <th>14493.5</th>\n      <th>0</th>\n      <th>0.1</th>\n      <th>0.2</th>\n      <th>0.3</th>\n    </tr>\n  </thead>\n  <tbody>\n    <tr>\n      <th>0</th>\n      <td>Uninfected</td>\n      <td>13663.5</td>\n      <td>0.0</td>\n      <td>0.0</td>\n      <td>0.0</td>\n      <td>0.0</td>\n    </tr>\n    <tr>\n      <th>1</th>\n      <td>Uninfected</td>\n      <td>14300.0</td>\n      <td>0.0</td>\n      <td>0.0</td>\n      <td>0.0</td>\n      <td>0.0</td>\n    </tr>\n    <tr>\n      <th>2</th>\n      <td>Uninfected</td>\n      <td>7735.5</td>\n      <td>0.0</td>\n      <td>0.0</td>\n      <td>0.0</td>\n      <td>0.0</td>\n    </tr>\n    <tr>\n      <th>3</th>\n      <td>Uninfected</td>\n      <td>11123.0</td>\n      <td>0.0</td>\n      <td>0.0</td>\n      <td>0.0</td>\n      <td>0.0</td>\n    </tr>\n    <tr>\n      <th>4</th>\n      <td>Uninfected</td>\n      <td>9863.0</td>\n      <td>0.0</td>\n      <td>0.0</td>\n      <td>0.0</td>\n      <td>0.0</td>\n    </tr>\n  </tbody>\n</table>\n</div>"
     },
     "metadata": {},
     "execution_count": 8
    }
   ],
   "source": [
    "df = pd.read_csv(\"dataset.csv\")\n",
    "df.drop(df.columns[6], axis = 1, inplace=True) \n",
    "df.head(5)"
   ]
  },
  {
   "cell_type": "markdown",
   "metadata": {},
   "source": [
    "# Add labels to the dataframe"
   ]
  },
  {
   "cell_type": "code",
   "execution_count": 9,
   "metadata": {
    "tags": []
   },
   "outputs": [
    {
     "output_type": "stream",
     "name": "stdout",
     "text": "['Cell_diagnosis', 'area0', 'area1', 'area2', 'area3', 'area4']\n"
    },
    {
     "output_type": "execute_result",
     "data": {
      "text/plain": "  Cell_diagnosis    area0  area1  area2  area3  area4\n0     Uninfected  13663.5    0.0    0.0    0.0    0.0\n1     Uninfected  14300.0    0.0    0.0    0.0    0.0\n2     Uninfected   7735.5    0.0    0.0    0.0    0.0\n3     Uninfected  11123.0    0.0    0.0    0.0    0.0\n4     Uninfected   9863.0    0.0    0.0    0.0    0.0",
      "text/html": "<div>\n<style scoped>\n    .dataframe tbody tr th:only-of-type {\n        vertical-align: middle;\n    }\n\n    .dataframe tbody tr th {\n        vertical-align: top;\n    }\n\n    .dataframe thead th {\n        text-align: right;\n    }\n</style>\n<table border=\"1\" class=\"dataframe\">\n  <thead>\n    <tr style=\"text-align: right;\">\n      <th></th>\n      <th>Cell_diagnosis</th>\n      <th>area0</th>\n      <th>area1</th>\n      <th>area2</th>\n      <th>area3</th>\n      <th>area4</th>\n    </tr>\n  </thead>\n  <tbody>\n    <tr>\n      <th>0</th>\n      <td>Uninfected</td>\n      <td>13663.5</td>\n      <td>0.0</td>\n      <td>0.0</td>\n      <td>0.0</td>\n      <td>0.0</td>\n    </tr>\n    <tr>\n      <th>1</th>\n      <td>Uninfected</td>\n      <td>14300.0</td>\n      <td>0.0</td>\n      <td>0.0</td>\n      <td>0.0</td>\n      <td>0.0</td>\n    </tr>\n    <tr>\n      <th>2</th>\n      <td>Uninfected</td>\n      <td>7735.5</td>\n      <td>0.0</td>\n      <td>0.0</td>\n      <td>0.0</td>\n      <td>0.0</td>\n    </tr>\n    <tr>\n      <th>3</th>\n      <td>Uninfected</td>\n      <td>11123.0</td>\n      <td>0.0</td>\n      <td>0.0</td>\n      <td>0.0</td>\n      <td>0.0</td>\n    </tr>\n    <tr>\n      <th>4</th>\n      <td>Uninfected</td>\n      <td>9863.0</td>\n      <td>0.0</td>\n      <td>0.0</td>\n      <td>0.0</td>\n      <td>0.0</td>\n    </tr>\n  </tbody>\n</table>\n</div>"
     },
     "metadata": {},
     "execution_count": 9
    }
   ],
   "source": [
    "headers = ['Cell_diagnosis','area0','area1','area2','area3','area4']\n",
    "print(headers)\n",
    "df.columns = headers\n",
    "df.head(5)"
   ]
  },
  {
   "cell_type": "markdown",
   "metadata": {},
   "source": [
    "# Drop the `Cell_diagnosis` column as it is a string column and not required for the training"
   ]
  },
  {
   "cell_type": "code",
   "execution_count": 10,
   "metadata": {},
   "outputs": [],
   "source": [
    "x = df.drop([\"Cell_diagnosis\"],axis=1)\n",
    "y = df[\"Cell_diagnosis\"]\n",
    "x_train, x_test, y_train, y_test = train_test_split(x,y,test_size=0.2,random_state=42)"
   ]
  },
  {
   "cell_type": "markdown",
   "metadata": {},
   "source": [
    "# Generate a RandomForestClassifier model with different chosen estimators and depth and train the model with the train data"
   ]
  },
  {
   "cell_type": "code",
   "execution_count": 27,
   "metadata": {},
   "outputs": [],
   "source": [
    "model = RandomForestClassifier(n_estimators=100,max_depth=5)\n",
    "model.fit(x_train,y_train);"
   ]
  },
  {
   "cell_type": "markdown",
   "metadata": {},
   "source": [
    "# Make predictions by feeding the test data into the model created and observe the predictions"
   ]
  },
  {
   "cell_type": "code",
   "execution_count": 40,
   "metadata": {
    "tags": []
   },
   "outputs": [
    {
     "output_type": "stream",
     "name": "stdout",
     "text": "Eval:               precision    recall  f1-score   support\n\n Parasitized       0.89      0.90      0.90      2667\n  Uninfected       0.91      0.90      0.90      2845\n\n    accuracy                           0.90      5512\n   macro avg       0.90      0.90      0.90      5512\nweighted avg       0.90      0.90      0.90      5512\n\nModel score: 0.9011248185776488\n\nConfusion matrix: \n [[2407  285]\n [ 260 2560]]\n"
    }
   ],
   "source": [
    "predictions = model.predict(x_test)\n",
    "\n",
    "print('Eval:', metrics.classification_report(predictions,y_test))\n",
    "print('Model score:', model.score(x_test,y_test))\n",
    "print('\\nConfusion matrix: \\n',confusion_matrix(y_test, predictions))"
   ]
  },
  {
   "cell_type": "markdown",
   "metadata": {},
   "source": [
    "# Model has resulted in `90% accuracy`"
   ]
  },
  {
   "cell_type": "markdown",
   "metadata": {},
   "source": [
    "## The confusion matrix shows that 2407 positive (parasitized) values were predicted correctly as positivewhile 260 possitve values were incorectly predicted as negative(uninfected)\n",
    "\n",
    "## As for the uninfected values, 2560 values were predicted correctly as negative(uninfected) while 285 values were incorrectly predicted as positive(parasitized)"
   ]
  }
 ],
 "metadata": {
  "language_info": {
   "codemirror_mode": {
    "name": "ipython",
    "version": 3
   },
   "file_extension": ".py",
   "mimetype": "text/x-python",
   "name": "python",
   "nbconvert_exporter": "python",
   "pygments_lexer": "ipython3",
   "version": "3.8.3-final"
  },
  "orig_nbformat": 2,
  "kernelspec": {
   "name": "python38364bit5e26ea9bef8e46dca49cb9732604a04d",
   "display_name": "Python 3.8.3 64-bit"
  }
 },
 "nbformat": 4,
 "nbformat_minor": 2
}